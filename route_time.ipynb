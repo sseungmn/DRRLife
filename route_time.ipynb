{
 "cells": [
  {
   "cell_type": "code",
   "execution_count": 170,
   "metadata": {},
   "outputs": [],
   "source": [
    "import json\n",
    "import requests"
   ]
  },
  {
   "cell_type": "code",
   "execution_count": 179,
   "metadata": {
    "collapsed": true
   },
   "outputs": [
    {
     "data": {
      "text/plain": [
       "{'confirmid': '21160731',\n",
       " 'x': 526146,\n",
       " 'y': 1109362,\n",
       " 'name': '가락시장역 8호선',\n",
       " 'tel': '02-6311-8171',\n",
       " 'address': '서울 송파구 가락동 184-23 ',\n",
       " 'reviewCount': 2,\n",
       " 'homepage': '',\n",
       " 'img': 'http://t1.daumcdn.net/place/D71E017D0727457F9AA0F2ED96D7555A',\n",
       " 'sourceId': 'SES2818',\n",
       " 'source': 'subway',\n",
       " 'grade_count': '0',\n",
       " 'roadview': '1118455595|249|1|||526177|1109374|2',\n",
       " 'full_category_ids': '4|139|797',\n",
       " 'last_cate_id': '797',\n",
       " 'last_cate_name': '수도권8호선',\n",
       " 'last_cate_depth': '3',\n",
       " 'cate_name_depth1': '교통,수송',\n",
       " 'cate_name_depth2': '지하철,전철',\n",
       " 'cate_name_depth3': '수도권8호선',\n",
       " 'cate_name_depth4': '',\n",
       " 'cate_name_depth5': '',\n",
       " 'storeview_id': '0',\n",
       " 'hub_data': '',\n",
       " 'brand': '',\n",
       " 'brandName': '수도권8호선',\n",
       " 'oil1': '0',\n",
       " 'oil2': '0',\n",
       " 'oil3': '0',\n",
       " 'oil4': '0',\n",
       " 'oilTime': '',\n",
       " 'oil_sel24': '',\n",
       " 'phoneSynonyms': '',\n",
       " 'related_place': '22906005^1번출구^|1118796757^2-1번출구^|22906004^2번출구^|22906003^3번출구^|22906002^4번출구^|22906001^5번출구^|22906000^6번출구^',\n",
       " 'new_address': '서울 송파구 송파대로 지하 257',\n",
       " 'courseinfo': '',\n",
       " 'geoinfo': '',\n",
       " 'requiringtime': '',\n",
       " 'tvshow_info': '',\n",
       " 'tvshow_name': '',\n",
       " 'address_disp': '서울|송파구|가락동|184-23|',\n",
       " 'new_address_disp': '서울|송파구||송파대로|지하 257|',\n",
       " 'distance': '966',\n",
       " 'catetype': 'C',\n",
       " 'new_zipcode': '05699',\n",
       " 'kplace_ratings_count': '0',\n",
       " 'kplace_rating': '0',\n",
       " 'openoff_status': 'N',\n",
       " 'shape_support_types': '',\n",
       " 'production_tags': [],\n",
       " 'rating_average': 0,\n",
       " 'rating_count': 0,\n",
       " 'accom_info': '',\n",
       " 'addinfo_appointment': '',\n",
       " 'addinfo_delivery': '',\n",
       " 'addinfo_fordisabled': '',\n",
       " 'addinfo_nursery': '',\n",
       " 'addinfo_package': '',\n",
       " 'addinfo_parking': '',\n",
       " 'addinfo_pet': '',\n",
       " 'addinfo_smokingroom': '',\n",
       " 'addinfo_wifi': '',\n",
       " 'meta_keywords_disp': '',\n",
       " 'issue_keywords_disp': '',\n",
       " 'oil_carwash': '',\n",
       " 'oil_convenience': '',\n",
       " 'oil_maintenance': '',\n",
       " 'oil_self': '',\n",
       " 'mobility_parking_exit_type': '',\n",
       " 'zigbang_info': None,\n",
       " 'knavi_guide_infos': [{'id': 2202888,\n",
       "   'kid': 0,\n",
       "   'name': '입구',\n",
       "   'rp_flag': 'H',\n",
       "   'type': '',\n",
       "   'x': 127.11873,\n",
       "   'y': 37.492546}]}"
      ]
     },
     "execution_count": 179,
     "metadata": {},
     "output_type": "execute_result"
    }
   ],
   "source": [
    "target_location = '가락시장역'\n",
    "url_location = f'https://search.map.daum.net/mapsearch/map.daum?&q={target}&msFlag=A&sort=0&gb=R'\n",
    "headers_location = {'Host':'search.map.daum.net', 'Referer':'https://map.kakao.com/'}\n",
    "raw_location = requests.get(url_location, headers=headers_location)\n",
    "json_location = raw_location.json().get('place')[0]\n",
    "address_location = (json_location.get('x'), json_location.get('y'))\n",
    "json_location"
   ]
  },
  {
   "cell_type": "code",
   "execution_count": 184,
   "metadata": {},
   "outputs": [],
   "source": [
    "def find_location(address):\n",
    "    _url = f'https://search.map.daum.net/mapsearch/map.daum?&q={address}&msFlag=A&sort=0&gb=R'\n",
    "    _headers = {'Host':'search.map.daum.net', 'Referer':'https://map.kakao.com/'}\n",
    "    _raw = requests.get(_url, headers=_headers)\n",
    "    _json_data = _raw.json().get('place')[0]\n",
    "    _location = (_json_data.get('x'), _json_data.get('y'))\n",
    "    return _location"
   ]
  },
  {
   "cell_type": "code",
   "execution_count": 193,
   "metadata": {},
   "outputs": [],
   "source": [
    "def find_route(s, e):\n",
    "    _sX, _sY = find_location(s)\n",
    "    _eX, _eY = find_location(e)\n",
    "    _url = f'https://map.kakao.com/route/{method}.json?sX={_sX}&sY={_sY}&eX={_eX}&eY={_eY}'\n",
    "    _raw = requests.get(_url)\n",
    "    if _raw.status_code == 200:\n",
    "        if method == 'bikeset':\n",
    "            _json = _raw.json().get('directions')\n",
    "            _time = _json[0].get('time')/60\n",
    "        else:\n",
    "            _json = _raw.json()\n",
    "    else:\n",
    "        print(\"ERROR : \", _raw.status_code)\n",
    "    return _time"
   ]
  },
  {
   "cell_type": "code",
   "execution_count": 199,
   "metadata": {},
   "outputs": [
    {
     "data": {
      "text/plain": [
       "28"
      ]
     },
     "execution_count": 199,
     "metadata": {},
     "output_type": "execute_result"
    }
   ],
   "source": [
    "time = int(find_route('잠실역','개롱역','bikeset'))\n",
    "time"
   ]
  }
 ],
 "metadata": {
  "kernelspec": {
   "display_name": "Python 3",
   "language": "python",
   "name": "python3"
  },
  "language_info": {
   "codemirror_mode": {
    "name": "ipython",
    "version": 3
   },
   "file_extension": ".py",
   "mimetype": "text/x-python",
   "name": "python",
   "nbconvert_exporter": "python",
   "pygments_lexer": "ipython3",
   "version": "3.8.5"
  }
 },
 "nbformat": 4,
 "nbformat_minor": 4
}

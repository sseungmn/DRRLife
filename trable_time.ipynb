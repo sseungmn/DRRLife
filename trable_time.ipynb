{
 "cells": [
  {
   "cell_type": "code",
   "execution_count": 2,
   "metadata": {},
   "outputs": [],
   "source": [
    "import json\n",
    "import requests"
   ]
  },
  {
   "cell_type": "code",
   "execution_count": 3,
   "metadata": {},
   "outputs": [
    {
     "data": {
      "text/plain": [
       "(529862, 1110718, 'SES2559')"
      ]
     },
     "execution_count": 3,
     "metadata": {},
     "output_type": "execute_result"
    }
   ],
   "source": [
    "target_location = '개롱역'\n",
    "url_location = f'https://search.map.daum.net/mapsearch/map.daum?&q={target_location}&msFlag=A&sort=0&gb=R'\n",
    "headers_location = {'Host':'search.map.daum.net', 'Referer':'https://map.kakao.com/'}\n",
    "raw_location = requests.get(url_location, headers=headers_location)\n",
    "json_location = raw_location.json().get('place')[0]\n",
    "address_location = (json_location.get('x'), json_location.get('y'), json_location.get('sourceId'))\n",
    "address_location"
   ]
  },
  {
   "cell_type": "code",
   "execution_count": 4,
   "metadata": {},
   "outputs": [],
   "source": [
    "def find_location(address):\n",
    "    _url = f'https://search.map.daum.net/mapsearch/map.daum?&q={address}&msFlag=A&sort=0&gb=R'\n",
    "    _headers = {'Host':'search.map.daum.net', 'Referer':'https://map.kakao.com/'}\n",
    "    _raw = requests.get(_url, headers=_headers)\n",
    "    _json= _raw.json().get('place')[0]\n",
    "    _location = (_json.get('x'), _json.get('y'), _json.get('sourceId'))\n",
    "    return _location"
   ]
  },
  {
   "cell_type": "code",
   "execution_count": 6,
   "metadata": {},
   "outputs": [],
   "source": [
    "# 출발지, 도착지, 가는방법을 인자로 받아서 이동시간을 분으로 전달한다.\n",
    "def find_route(s, e, method):\n",
    "    _sX, _sY, _sID = find_location(s)\n",
    "    _eX, _eY, _eID = find_location(e)\n",
    "    \n",
    "    _headers = {\n",
    "        \"User-Agent\": \"Mozilla/5.0 (Macintosh; Intel Mac OS X 10_15_7) AppleWebKit/537.36 (KHTML, like Gecko) Chrome/86.0.4240.183 Safari/537.36\"}\n",
    "    \n",
    "    if method == 'bikeset':\n",
    "        _url = f'https://map.kakao.com/route/bikeset.json?sX={_sX}&sY={_sY}&eX={_eX}&eY={_eY}'\n",
    "    elif method == 'walkset':\n",
    "        _url = f'https://map.kakao.com/route/walkset.json?sX={sX}&sY={sY}&eX={eX}&eY={eY}&ids={sID},{eID}'\n",
    "        \n",
    "    _raw = requests.get(_url, headers=_headers)\n",
    "    \n",
    "    if _raw.status_code == 200:\n",
    "        _json = _raw.json().get('directions')\n",
    "        _time = _json[0].get('time')//60\n",
    "        return _time\n",
    "    else:\n",
    "        print(\"ERROR : \", _raw.status_code)\n",
    "        \n",
    "        return -1"
   ]
  },
  {
   "cell_type": "code",
   "execution_count": 9,
   "metadata": {},
   "outputs": [
    {
     "name": "stdout",
     "output_type": "stream",
     "text": [
      "524802 1111196 SES2817\n",
      "526146 1109362 SES2818\n"
     ]
    },
    {
     "data": {
      "text/plain": [
       "1094"
      ]
     },
     "execution_count": 9,
     "metadata": {},
     "output_type": "execute_result"
    }
   ],
   "source": [
    "# walkset 연습\n",
    "sX, sY, sID = find_location('송파역')\n",
    "print(sX, sY, sID)\n",
    "eX, eY, eID = find_location('가락시장역')\n",
    "print(eX, eY, eID)\n",
    "url = f'https://map.kakao.com/route/walkset.json?sX={sX}&sY={sY}&eX={eX}&eY={eY}&ids={sID},{eID}'\n",
    "raw = requests.get(url)\n",
    "raw.json().get('directions')[0].get('time')"
   ]
  },
  {
   "cell_type": "code",
   "execution_count": 7,
   "metadata": {},
   "outputs": [
    {
     "name": "stdout",
     "output_type": "stream",
     "text": [
      "잠실역->개롱역 : 28 분\n"
     ]
    }
   ],
   "source": [
    "time = find_route('잠실역','개롱역','bikeset')\n",
    "print(\"잠실->개롱역 :\",time,\"분\") "
   ]
  },
  {
   "cell_type": "code",
   "execution_count": null,
   "metadata": {},
   "outputs": [],
   "source": []
  }
 ],
 "metadata": {
  "kernelspec": {
   "display_name": "Python 3",
   "language": "python",
   "name": "python3"
  },
  "language_info": {
   "codemirror_mode": {
    "name": "ipython",
    "version": 3
   },
   "file_extension": ".py",
   "mimetype": "text/x-python",
   "name": "python",
   "nbconvert_exporter": "python",
   "pygments_lexer": "ipython3",
   "version": "3.8.5"
  }
 },
 "nbformat": 4,
 "nbformat_minor": 4
}
